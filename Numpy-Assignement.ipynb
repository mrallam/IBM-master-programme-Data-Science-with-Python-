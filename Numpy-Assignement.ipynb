{
 "cells": [
  {
   "cell_type": "markdown",
   "metadata": {},
   "source": [
    "<img src=\"http://cfs22.simplicdn.net/ice9/new_logo.svgz \"/>\n",
    "\n",
    "# Assignment 01: Evaluate the GDP Dataset\n",
    "\n",
    "*The comments/sections provided are your cues to perform the assignment. You don't need to limit yourself to the number of rows/cells provided. You can add additional rows in each section to add more lines of code.*\n",
    "\n",
    "*If at any point in time you need help on solving this assignment, view our demo video to understand the different steps of the code.*\n",
    "\n",
    "**Happy coding!**\n",
    "\n",
    "* * *"
   ]
  },
  {
   "cell_type": "markdown",
   "metadata": {},
   "source": [
    "#### 1: View and add the dataset"
   ]
  },
  {
   "cell_type": "code",
   "execution_count": 1,
   "metadata": {},
   "outputs": [],
   "source": [
    "#Import required library\n",
    "import numpy as np"
   ]
  },
  {
   "cell_type": "code",
   "execution_count": 53,
   "metadata": {},
   "outputs": [],
   "source": [
    "#Manually add the dataset\n",
    "Countries = np.array(['Algeria','Angola','Argentina','Australia','Austria','Bahamas',\n",
    "                     'Bangladesh','Belarus','Belgium','Bhutan','Brazil','Bulgaria',\n",
    "                     'Cambodia','Cameroon','Chile','China','Colombia','Cyprus',\n",
    "                     'Denmark','El Salvador','Estonia','Ethiopia','Fiji','Finland',\n",
    "                     'France','Georgia','Ghana','Grenada','Guinea','Haiti','Honduras',\n",
    "                     'Hungary','India','Indonesia','Ireland','Italy','Japan','Kenya', \n",
    "                     'South Korea','Liberia','Malaysia','Mexico', 'Morocco','Nepal',\n",
    "                     'New Zealand','Norway','Pakistan', 'Peru','Qatar','Russia',\n",
    "                     'Singapore','South Africa','Spain','Sweden','Switzerland','Thailand',\n",
    "                     'United Arab Emirates','United Kingdom','United States','Uruguay','Venezuela','Vietnam','Zimbabwe'])\n",
    "GDP = np.asarray([2255.225482,629.9553062,11601.63022,25306.82494,27266.40335,19466.99052,588.3691778,2890.345675,\n",
    "               24733.62696,1445.760002,4803.398244,2618.876037,590.4521124,665.7982328,7122.938458,2639.54156,\n",
    "               3362.4656,15378.16704,30860.12808,2579.115607,6525.541272,229.6769525,2242.689259,27570.4852,\n",
    "               23016.84778,1334.646773,402.6953275,6047.200797,394.1156638,385.5793827,1414.072488,5745.981529,\n",
    "               837.7464011,1206.991065,27715.52837,18937.24998,39578.07441,478.2194906,16684.21278,279.2204061,\n",
    "               5345.213415,6288.25324,1908.304416,274.8728621,14646.42094,40034.85063,672.1547506,3359.517402,\n",
    "               36152.66676,3054.727742,33529.83052,3825.093781,15428.32098,33630.24604,39170.41371,2699.123242,\n",
    "               21058.43643,28272.40661,37691.02733,9581.05659,5671.912202,757.4009286,347.7456605])\n"
   ]
  },
  {
   "cell_type": "markdown",
   "metadata": {
    "collapsed": true
   },
   "source": [
    "#### 2: Find and print the name of the country with the highest GDP"
   ]
  },
  {
   "cell_type": "code",
   "execution_count": 24,
   "metadata": {},
   "outputs": [
    {
     "name": "stdout",
     "output_type": "stream",
     "text": [
      "45\n"
     ]
    }
   ],
   "source": [
    "#Use the argmax() method to find the highest GDP\n",
    "highestGDP = GDP.argmax()\n",
    "print(highestGDP)"
   ]
  },
  {
   "cell_type": "code",
   "execution_count": 25,
   "metadata": {},
   "outputs": [
    {
     "name": "stdout",
     "output_type": "stream",
     "text": [
      "Norway\n"
     ]
    }
   ],
   "source": [
    "#Print the name of the country\n",
    "country = Countries[highestGDP]\n",
    "print(country)"
   ]
  },
  {
   "cell_type": "markdown",
   "metadata": {},
   "source": [
    "#### 3: Find and print the name of the country with the lowest GDP"
   ]
  },
  {
   "cell_type": "code",
   "execution_count": 26,
   "metadata": {},
   "outputs": [
    {
     "name": "stdout",
     "output_type": "stream",
     "text": [
      "Ethiopia\n"
     ]
    }
   ],
   "source": [
    "#Use the argmin() method to find the lowest GDP\n",
    "lowestGDP = GDP.argmin()\n",
    "countryMin = Countries[lowestGDP]"
   ]
  },
  {
   "cell_type": "code",
   "execution_count": 27,
   "metadata": {},
   "outputs": [
    {
     "name": "stdout",
     "output_type": "stream",
     "text": [
      "Ethiopia\n"
     ]
    }
   ],
   "source": [
    "#Print the name of the country\n",
    "print(countryMin)"
   ]
  },
  {
   "cell_type": "markdown",
   "metadata": {},
   "source": [
    "#### 4: Print out text ('evaluating country') and input value ('country name') iteratively"
   ]
  },
  {
   "cell_type": "code",
   "execution_count": 30,
   "metadata": {},
   "outputs": [
    {
     "name": "stdout",
     "output_type": "stream",
     "text": [
      "Evaluating country Algeria\n",
      "Evaluating country Angola\n",
      "Evaluating country Argentina\n",
      "Evaluating country Australia\n",
      "Evaluating country Austria\n",
      "Evaluating country Bahamas\n",
      "Evaluating country Bangladesh\n",
      "Evaluating country Belarus\n",
      "Evaluating country Belgium\n",
      "Evaluating country Bhutan\n",
      "Evaluating country Brazil\n",
      "Evaluating country Bulgaria\n",
      "Evaluating country Cambodia\n",
      "Evaluating country Cameroon\n",
      "Evaluating country Chile\n",
      "Evaluating country China\n",
      "Evaluating country Colombia\n",
      "Evaluating country Cyprus\n",
      "Evaluating country Denmark\n",
      "Evaluating country El Salvador\n",
      "Evaluating country Estonia\n",
      "Evaluating country Ethiopia\n",
      "Evaluating country Fiji\n",
      "Evaluating country Finland\n",
      "Evaluating country France\n",
      "Evaluating country Georgia\n",
      "Evaluating country Ghana\n",
      "Evaluating country Grenada\n",
      "Evaluating country Guinea\n",
      "Evaluating country Haiti\n",
      "Evaluating country Honduras\n",
      "Evaluating country Hungary\n",
      "Evaluating country India\n",
      "Evaluating country Indonesia\n",
      "Evaluating country Ireland\n",
      "Evaluating country Italy\n",
      "Evaluating country Japan\n",
      "Evaluating country Kenya\n",
      "Evaluating country South Korea\n",
      "Evaluating country Liberia\n",
      "Evaluating country Malaysia\n",
      "Evaluating country Mexico\n",
      "Evaluating country Morocco\n",
      "Evaluating country Nepal\n",
      "Evaluating country New Zealand\n",
      "Evaluating country Norway\n",
      "Evaluating country Pakistan\n",
      "Evaluating country Peru\n",
      "Evaluating country Qatar\n",
      "Evaluating country Russia\n",
      "Evaluating country Singapore\n",
      "Evaluating country South Africa\n",
      "Evaluating country Spain\n",
      "Evaluating country Sweden\n",
      "Evaluating country Switzerland\n",
      "Evaluating country Thailand\n",
      "Evaluating country United Arab Emirates\n",
      "Evaluating country United Kingdom\n",
      "Evaluating country United States\n",
      "Evaluating country Uruguay\n",
      "Evaluating country Venezuela\n",
      "Evaluating country Vietnam\n",
      "Evaluating country Zimbabwe\n"
     ]
    }
   ],
   "source": [
    "#Use a for loop to print the required output\n",
    "for country in Countries:\n",
    "    print('Evaluating country {}'.format(country))\n"
   ]
  },
  {
   "cell_type": "markdown",
   "metadata": {},
   "source": [
    "#### 5: Print out the entire list of the countries with their GDPs"
   ]
  },
  {
   "cell_type": "code",
   "execution_count": 55,
   "metadata": {},
   "outputs": [
    {
     "name": "stdout",
     "output_type": "stream",
     "text": [
      "The GDP for the country Algeria is 2255.225482\n",
      "The GDP for the country Angola is 629.9553062\n",
      "The GDP for the country Argentina is 11601.63022\n",
      "The GDP for the country Australia is 25306.82494\n",
      "The GDP for the country Austria is 27266.40335\n",
      "The GDP for the country Bahamas is 19466.99052\n",
      "The GDP for the country Bangladesh is 588.3691778\n",
      "The GDP for the country Belarus is 2890.345675\n",
      "The GDP for the country Belgium is 24733.62696\n",
      "The GDP for the country Bhutan is 1445.760002\n",
      "The GDP for the country Brazil is 4803.398244\n",
      "The GDP for the country Bulgaria is 2618.876037\n",
      "The GDP for the country Cambodia is 590.4521124\n",
      "The GDP for the country Cameroon is 665.7982328\n",
      "The GDP for the country Chile is 7122.938458\n",
      "The GDP for the country China is 2639.54156\n",
      "The GDP for the country Colombia is 3362.4656\n",
      "The GDP for the country Cyprus is 15378.16704\n",
      "The GDP for the country Denmark is 30860.12808\n",
      "The GDP for the country El Salvador is 2579.115607\n",
      "The GDP for the country Estonia is 6525.541272\n",
      "The GDP for the country Ethiopia is 229.6769525\n",
      "The GDP for the country Fiji is 2242.689259\n",
      "The GDP for the country Finland is 27570.4852\n",
      "The GDP for the country France is 23016.84778\n",
      "The GDP for the country Georgia is 1334.646773\n",
      "The GDP for the country Ghana is 402.6953275\n",
      "The GDP for the country Grenada is 6047.200797\n",
      "The GDP for the country Guinea is 394.1156638\n",
      "The GDP for the country Haiti is 385.5793827\n",
      "The GDP for the country Honduras is 1414.072488\n",
      "The GDP for the country Hungary is 5745.981529\n",
      "The GDP for the country India is 837.7464011\n",
      "The GDP for the country Indonesia is 1206.991065\n",
      "The GDP for the country Ireland is 27715.52837\n",
      "The GDP for the country Italy is 18937.24998\n",
      "The GDP for the country Japan is 39578.07441\n",
      "The GDP for the country Kenya is 478.2194906\n",
      "The GDP for the country South Korea is 16684.21278\n",
      "The GDP for the country Liberia is 279.2204061\n",
      "The GDP for the country Malaysia is 5345.213415\n",
      "The GDP for the country Mexico is 6288.25324\n",
      "The GDP for the country Morocco is 1908.304416\n",
      "The GDP for the country Nepal is 274.8728621\n",
      "The GDP for the country New Zealand is 14646.42094\n",
      "The GDP for the country Norway is 40034.85063\n",
      "The GDP for the country Pakistan is 672.1547506\n",
      "The GDP for the country Peru is 3359.517402\n",
      "The GDP for the country Qatar is 36152.66676\n",
      "The GDP for the country Russia is 3054.727742\n",
      "The GDP for the country Singapore is 33529.83052\n",
      "The GDP for the country South Africa is 3825.093781\n",
      "The GDP for the country Spain is 15428.32098\n",
      "The GDP for the country Sweden is 33630.24604\n",
      "The GDP for the country Switzerland is 39170.41371\n",
      "The GDP for the country Thailand is 2699.123242\n",
      "The GDP for the country United Arab Emirates is 21058.43643\n",
      "The GDP for the country United Kingdom is 28272.40661\n",
      "The GDP for the country United States is 37691.02733\n",
      "The GDP for the country Uruguay is 9581.05659\n",
      "The GDP for the country Venezuela is 5671.912202\n",
      "The GDP for the country Vietnam is 757.4009286\n",
      "The GDP for the country Zimbabwe is 347.7456605\n"
     ]
    }
   ],
   "source": [
    "#Use a for loop to print the required list\n",
    "for i in range(len(Countries)):\n",
    "    country = Countries[i]\n",
    "    G = GDP[i]\n",
    "    print('The GDP for the country {} is {}'.format(country,G))"
   ]
  },
  {
   "cell_type": "markdown",
   "metadata": {},
   "source": [
    "#### 6: Print the following:\n",
    "1. Highest GPD value\n",
    "2. Lowest GDP value\n",
    "3. Mean GDP value\n",
    "4. Standardized GDP value\n",
    "5. Sum of all the GDPs"
   ]
  },
  {
   "cell_type": "code",
   "execution_count": 61,
   "metadata": {},
   "outputs": [
    {
     "name": "stdout",
     "output_type": "stream",
     "text": [
      "Highest GPD value :\n",
      "40034.85063\n",
      "Lowest GDP value :\n",
      "229.6769525\n",
      "Mean GDP value :\n",
      "11289.409271639683\n",
      "Standardized GDP value :\n",
      "12743.828910617945\n",
      "Sum of all the GDPs :\n",
      "711232.7841133\n"
     ]
    }
   ],
   "source": [
    "print('Highest GPD value :')\n",
    "print(GDP.max())\n",
    "print('Lowest GDP value :')\n",
    "print(GDP.min())\n",
    "print('Mean GDP value :')\n",
    "print(GDP.mean())\n",
    "print('Standardized GDP value :')\n",
    "print(GDP.std())\n",
    "print('Sum of all the GDPs :')\n",
    "print(GDP.sum())\n"
   ]
  },
  {
   "cell_type": "code",
   "execution_count": null,
   "metadata": {},
   "outputs": [],
   "source": []
  }
 ],
 "metadata": {
  "kernelspec": {
   "display_name": "Python 3",
   "language": "python",
   "name": "python3"
  },
  "language_info": {
   "codemirror_mode": {
    "name": "ipython",
    "version": 3
   },
   "file_extension": ".py",
   "mimetype": "text/x-python",
   "name": "python",
   "nbconvert_exporter": "python",
   "pygments_lexer": "ipython3",
   "version": "3.7.6"
  }
 },
 "nbformat": 4,
 "nbformat_minor": 1
}
